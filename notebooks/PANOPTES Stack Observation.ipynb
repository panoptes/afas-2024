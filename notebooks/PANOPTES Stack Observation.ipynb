{
  "cells": [
    {
      "cell_type": "markdown",
      "metadata": {
        "id": "view-in-github",
        "colab_type": "text"
      },
      "source": [
        "<a href=\"https://colab.research.google.com/github/panoptes/afas-2024/blob/main/notebooks/PANOPTES%20Stack%20Observation.ipynb\" target=\"_parent\"><img src=\"https://colab.research.google.com/assets/colab-badge.svg\" alt=\"Open In Colab\"/></a>"
      ]
    },
    {
      "cell_type": "markdown",
      "source": [
        "## Setup\n",
        "\n",
        "This will install the [`panoptes-data`](https://github.com/panoptes/panoptes-data) module, which contains a number of useful features for working with images.\n",
        "\n",
        "It might take a moment to run this cell while the required libraries are installed."
      ],
      "metadata": {
        "id": "_VxTagURn_f_"
      },
      "id": "_VxTagURn_f_"
    },
    {
      "cell_type": "code",
      "execution_count": null,
      "id": "Vr8qqQtdU7cc",
      "metadata": {
        "id": "Vr8qqQtdU7cc"
      },
      "outputs": [],
      "source": [
        "%%capture\n",
        "%pip install panoptes-data"
      ]
    },
    {
      "cell_type": "code",
      "execution_count": null,
      "id": "compliant-relevance",
      "metadata": {
        "id": "compliant-relevance"
      },
      "outputs": [],
      "source": [
        "from matplotlib import pyplot as plt\n",
        "import pandas as pd\n",
        "import numpy as np\n",
        "import seaborn as sb\n",
        "import requests\n",
        "from tqdm.auto import tqdm\n",
        "from astropy.visualization import simple_norm\n",
        "from astropy.coordinates import SkyCoord\n",
        "from astropy.nddata import Cutout2D, CCDData\n",
        "\n",
        "from google.colab import data_table\n",
        "\n",
        "from panoptes.data.search import get_all_observations\n",
        "from panoptes.data.observations import ObservationInfo\n",
        "\n",
        "data_table.enable_dataframe_formatter()"
      ]
    },
    {
      "cell_type": "markdown",
      "id": "6c16642f-6503-4609-aa71-047dbd55b937",
      "metadata": {
        "id": "6c16642f-6503-4609-aa71-047dbd55b937"
      },
      "source": [
        "# Stack observation images\n",
        "\n",
        "In this notebook we will search for a given observation and then make some simple image stacks of the data."
      ]
    },
    {
      "cell_type": "markdown",
      "id": "0a4bfd44-7e75-4868-9a99-b60fd2fe4698",
      "metadata": {
        "id": "0a4bfd44-7e75-4868-9a99-b60fd2fe4698"
      },
      "source": [
        "## Search for field\n",
        "\n",
        "Get a list of all of the available fields and show the ones with the most observations."
      ]
    },
    {
      "cell_type": "code",
      "execution_count": null,
      "id": "accessible-fountain",
      "metadata": {
        "id": "accessible-fountain"
      },
      "outputs": [],
      "source": [
        "# Download a CSV list of all the available observations.\n",
        "search_results = get_all_observations()"
      ]
    },
    {
      "cell_type": "code",
      "source": [
        "# Show the top ten fields with the most observations.\n",
        "search_results.field_name.value_counts().reset_index()"
      ],
      "metadata": {
        "id": "5KFP5Qlaogbq"
      },
      "id": "5KFP5Qlaogbq",
      "execution_count": null,
      "outputs": []
    },
    {
      "cell_type": "code",
      "execution_count": null,
      "id": "44988744-8e84-4a54-a50c-a9ab3b7bf05a",
      "metadata": {
        "id": "44988744-8e84-4a54-a50c-a9ab3b7bf05a"
      },
      "outputs": [],
      "source": [
        "# Pick a field and get the coordinates.\n",
        "field_name = 'M86'\n",
        "\n",
        "search_coords = SkyCoord.from_name(field_name)\n",
        "search_coords"
      ]
    },
    {
      "cell_type": "markdown",
      "id": "049c6524-0d02-42d6-ba72-f8acb3dd0fb8",
      "metadata": {
        "id": "049c6524-0d02-42d6-ba72-f8acb3dd0fb8"
      },
      "source": [
        "## Select observation\n",
        "\n",
        "A `sequence_id` is used to explore observations. Here we get the most observation to get the `sequence_id`."
      ]
    },
    {
      "cell_type": "code",
      "execution_count": null,
      "id": "cf45187b-5123-4a07-abbc-e1b9d455791f",
      "metadata": {
        "id": "cf45187b-5123-4a07-abbc-e1b9d455791f"
      },
      "outputs": [],
      "source": [
        "# We choose an entry that only has a few images while running on binder and get the most recent.\n",
        "\n",
        "record = search_results.query('field_name == @field_name').sort_values(by='num_images').iloc[-1]\n",
        "record.T"
      ]
    },
    {
      "cell_type": "code",
      "execution_count": null,
      "id": "29453b67-d99f-4a3c-8a62-1f769d10aebf",
      "metadata": {
        "id": "29453b67-d99f-4a3c-8a62-1f769d10aebf"
      },
      "outputs": [],
      "source": [
        "sequence_id = record.sequence_id\n",
        "sequence_id"
      ]
    },
    {
      "cell_type": "markdown",
      "id": "db09920b-a85a-4a2c-a990-679741ce6458",
      "metadata": {
        "id": "db09920b-a85a-4a2c-a990-679741ce6458"
      },
      "source": [
        "## Get Observation info\n",
        "\n",
        "We can get more information about the observation by creating an `ObservationInfo` object. You can create it with just a `sequence_id` (e.g. `ObservationInfo(sequence_id=record.sequence_id)) but here we pass all the meta data."
      ]
    },
    {
      "cell_type": "code",
      "execution_count": null,
      "id": "0c6efea0-3a55-4fcd-9046-cab7ee0d12a5",
      "metadata": {
        "id": "0c6efea0-3a55-4fcd-9046-cab7ee0d12a5"
      },
      "outputs": [],
      "source": [
        "obs_info = ObservationInfo(sequence_id)"
      ]
    },
    {
      "cell_type": "markdown",
      "id": "4593767b",
      "metadata": {
        "id": "4593767b"
      },
      "source": [
        "We can do a simple check for the quality of our data by checking the median detected FWHM for all the images in the observation:"
      ]
    },
    {
      "cell_type": "code",
      "execution_count": null,
      "id": "eE5OzNe_bXjN",
      "metadata": {
        "id": "eE5OzNe_bXjN"
      },
      "outputs": [],
      "source": [
        "obs_info.image_metadata.status.value_counts()"
      ]
    },
    {
      "cell_type": "code",
      "execution_count": null,
      "id": "ebeba711",
      "metadata": {
        "id": "ebeba711"
      },
      "outputs": [],
      "source": [
        "fg = sb.displot(obs_info.image_metadata.sources_photutils_fwhm_median)\n",
        "fg.ax.set_title(f'Photutils Median FWHM - {obs_info.image_metadata.sources_photutils_fwhm_median.median():.02f} pixels');"
      ]
    },
    {
      "cell_type": "markdown",
      "id": "7751e212-8993-4ec5-b447-dd9dff4172a6",
      "metadata": {
        "id": "7751e212-8993-4ec5-b447-dd9dff4172a6"
      },
      "source": [
        "## Plot a single image\n",
        "\n",
        "We can retrieve the data for the image by using the `get_image_data` function using the index of the image from the `raw_images` list.\n",
        "\n",
        "An optional `coords` and `box_size` allow for cropping of the data as it is returned (the full data still travels over the network as of now).\n",
        "\n",
        "You can also retrieve the raw or processed data using the `use_raw=True` flag."
      ]
    },
    {
      "cell_type": "code",
      "execution_count": null,
      "id": "69bff76a-f18b-4a5d-8a32-1dc483224223",
      "metadata": {
        "id": "69bff76a-f18b-4a5d-8a32-1dc483224223"
      },
      "outputs": [],
      "source": [
        "cutout_size = (500, 400)"
      ]
    },
    {
      "cell_type": "code",
      "execution_count": null,
      "id": "b41bda3b-9311-49d6-a591-d4c41cc3ee1f",
      "metadata": {
        "id": "b41bda3b-9311-49d6-a591-d4c41cc3ee1f"
      },
      "outputs": [],
      "source": [
        "data0 = obs_info.get_image_data(idx=0)\n",
        "cutout0 = obs_info.get_image_cutout(data=data0, coords=search_coords, box_size=cutout_size)\n",
        "\n",
        "ax = plt.subplot(projection=cutout0.wcs)\n",
        "\n",
        "norm = simple_norm(cutout0.data, 'sqrt', min_percent=5, max_percent=94)\n",
        "\n",
        "im = ax.imshow(cutout0.data, origin='lower', norm=norm, cmap='Greys_r')\n",
        "ax.figure.colorbar(im)\n",
        "ax.figure.set_size_inches(12, 8)\n",
        "\n",
        "plt.grid(color='white', ls='--', alpha=0.5);"
      ]
    },
    {
      "cell_type": "code",
      "execution_count": null,
      "id": "9732455e",
      "metadata": {
        "id": "9732455e"
      },
      "outputs": [],
      "source": [
        "# Plot on the original.\n",
        "ax = plt.subplot(projection=data0.wcs)\n",
        "\n",
        "norm = simple_norm(data0.data, 'asinh', min_percent=10, max_percent=99.9)\n",
        "ax.imshow(data0.data, origin='lower', norm=norm, cmap='Greys_r')\n",
        "cutout0.plot_on_original(color='white')\n",
        "\n",
        "ax.grid(color='cyan', ls='dotted')\n",
        "\n",
        "# Show equatorial grid.\n",
        "ra = ax.coords[0]\n",
        "ra.set_major_formatter('dd:mm')\n",
        "ra.set_ticks_position('l')\n",
        "ra.set_ticklabel_position('l')\n",
        "ra.set_axislabel_position('l')\n",
        "ra.set_axislabel('RA')\n",
        "\n",
        "dec = ax.coords[1]\n",
        "dec.set_major_formatter('dd:mm:ss.s')\n",
        "dec.set_ticks_position('b')\n",
        "dec.set_ticklabel_position('b')\n",
        "dec.set_axislabel_position('b')\n",
        "dec.set_axislabel('Dec')\n",
        "\n",
        "\n",
        "ax.figure.set_size_inches(16, 12)"
      ]
    },
    {
      "cell_type": "markdown",
      "id": "486b0c7b-51bf-43c0-bebf-178329ecb85b",
      "metadata": {
        "id": "486b0c7b-51bf-43c0-bebf-178329ecb85b"
      },
      "source": [
        "We can perform this action in a loop to retrieve the same cutout for all the images in the observation.\n",
        "\n",
        "Below we fetch the data for all the images into a list and then plot a single frame (similar to above), a median stack, and summation of all the data."
      ]
    },
    {
      "cell_type": "markdown",
      "id": "33b8d478-d8c6-4980-b80f-df67e4a4e57f",
      "metadata": {
        "id": "33b8d478-d8c6-4980-b80f-df67e4a4e57f"
      },
      "source": [
        "## Stack images"
      ]
    },
    {
      "cell_type": "markdown",
      "id": "e7966954",
      "metadata": {
        "id": "e7966954"
      },
      "source": [
        "Here we grab cutoutouts centered around our `search_coords` for all the images in this observation."
      ]
    },
    {
      "cell_type": "code",
      "execution_count": null,
      "id": "5d92ce8d-4c7a-41d6-b48b-c555b9e70ec7",
      "metadata": {
        "id": "5d92ce8d-4c7a-41d6-b48b-c555b9e70ec7"
      },
      "outputs": [],
      "source": [
        "stack_cutout = list()\n",
        "for i, img in tqdm(enumerate(obs_info.image_list), total=len(obs_info.image_list), desc='Fetching image cutouts'):\n",
        "    try:\n",
        "        cutout_data = obs_info.get_image_cutout(idx=i, coords=search_coords, box_size=cutout_size).data\n",
        "        stack_cutout.append(cutout_data)\n",
        "    except Exception:\n",
        "        # Skip some that have errors.\n",
        "        pass\n",
        "\n",
        "stack_cutout = np.array(stack_cutout)"
      ]
    },
    {
      "cell_type": "markdown",
      "id": "0c0b6347",
      "metadata": {
        "id": "0c0b6347"
      },
      "source": [
        "We then make some simple plots of the data in various ways: a single frame, the difference image for the observation, a median stack, and a full co-add."
      ]
    },
    {
      "cell_type": "code",
      "execution_count": null,
      "id": "5305722f-971e-4182-9ed0-f7350ef0e2c0",
      "metadata": {
        "cellView": "form",
        "id": "5305722f-971e-4182-9ed0-f7350ef0e2c0"
      },
      "outputs": [],
      "source": [
        "# @title\n",
        "stretch = 'sqrt'\n",
        "\n",
        "fig, axes = plt.subplots(ncols=2, nrows=2)\n",
        "\n",
        "# Make a difference image.\n",
        "diffs = pd.DataFrame(stack_cutout.reshape(stack_cutout.shape[0], -1).astype('float'))\n",
        "diffs = diffs.diff().values.reshape(stack_cutout.shape[0], *cutout_size)[1:]\n",
        "\n",
        "# Show different types of plots.\n",
        "types = {\n",
        "    'Single Frame': stack_cutout[0],\n",
        "    'Difference': np.median(diffs, 0),\n",
        "    'Median': np.median(stack_cutout, 0),\n",
        "    'Sum': stack_cutout.sum(0),\n",
        "}\n",
        "\n",
        "# Create each plot type.\n",
        "for i, (title, data) in enumerate(types.items()):\n",
        "    ax = axes.flatten()[i]\n",
        "    im = ax.imshow(data, norm=simple_norm(data, stretch, min_percent=10, max_percent=96), origin='lower', cmap='Greys_r')\n",
        "    fig.colorbar(im, ax=ax)\n",
        "    ax.set_title(title)\n",
        "    ax.axis('off')\n",
        "\n",
        "fig.set_dpi(100)\n",
        "fig.set_size_inches(13, 11)"
      ]
    },
    {
      "cell_type": "code",
      "source": [],
      "metadata": {
        "id": "_hCy3GccroKz"
      },
      "id": "_hCy3GccroKz",
      "execution_count": null,
      "outputs": []
    }
  ],
  "metadata": {
    "colab": {
      "provenance": [],
      "collapsed_sections": [
        "_VxTagURn_f_"
      ],
      "toc_visible": true,
      "include_colab_link": true
    },
    "environment": {
      "kernel": "python3",
      "name": "common-cpu.m92",
      "type": "gcloud",
      "uri": "gcr.io/deeplearning-platform-release/base-cpu:m92"
    },
    "kernelspec": {
      "display_name": "Python 3 (ipykernel)",
      "language": "python",
      "name": "python3"
    },
    "language_info": {
      "codemirror_mode": {
        "name": "ipython",
        "version": 3
      },
      "file_extension": ".py",
      "mimetype": "text/x-python",
      "name": "python",
      "nbconvert_exporter": "python",
      "pygments_lexer": "ipython3",
      "version": "3.11.8"
    }
  },
  "nbformat": 4,
  "nbformat_minor": 5
}